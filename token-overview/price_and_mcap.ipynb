{
 "cells": [
  {
   "cell_type": "code",
   "execution_count": 1,
   "metadata": {},
   "outputs": [],
   "source": [
    "import pandas as pd\n",
    "import numpy as np\n",
    "from datetime import datetime\n",
    "import matplotlib.pyplot as plt\n",
    "import seaborn as sns"
   ]
  },
  {
   "cell_type": "code",
   "execution_count": 2,
   "metadata": {},
   "outputs": [],
   "source": [
    "HUNT_PRICE = pd.read_csv('HUNT/price.csv')\n",
    "HUNT_TVL = pd.read_csv('HUNT/TVL.csv')\n",
    "HUNT_PRICE['market_cap'] = HUNT_PRICE['huntprice'] * HUNT_TVL['0']"
   ]
  },
  {
   "cell_type": "code",
   "execution_count": 8,
   "metadata": {},
   "outputs": [
    {
     "ename": "AttributeError",
     "evalue": "'AxesSubplot' object has no attribute 'y_lim'",
     "output_type": "error",
     "traceback": [
      "\u001b[1;31m---------------------------------------------------------------------------\u001b[0m",
      "\u001b[1;31mAttributeError\u001b[0m                            Traceback (most recent call last)",
      "Cell \u001b[1;32mIn [8], line 12\u001b[0m\n\u001b[0;32m     10\u001b[0m ax1\u001b[39m.\u001b[39mset_ylabel(\u001b[39m'\u001b[39m\u001b[39mmarket cap\u001b[39m\u001b[39m'\u001b[39m, color\u001b[39m=\u001b[39m\u001b[39m'\u001b[39m\u001b[39mb\u001b[39m\u001b[39m'\u001b[39m)\n\u001b[0;32m     11\u001b[0m ax1\u001b[39m.\u001b[39mtick_params(axis\u001b[39m=\u001b[39m\u001b[39m'\u001b[39m\u001b[39my\u001b[39m\u001b[39m'\u001b[39m, labelcolor\u001b[39m=\u001b[39m\u001b[39m'\u001b[39m\u001b[39mb\u001b[39m\u001b[39m'\u001b[39m)\n\u001b[1;32m---> 12\u001b[0m ax1\u001b[39m.\u001b[39my_lim(\u001b[39m0\u001b[39m, \u001b[39m100000000000\u001b[39m)\n\u001b[0;32m     13\u001b[0m plt\u001b[39m.\u001b[39mxticks(HUNT_PRICE[\u001b[39m'\u001b[39m\u001b[39mblock_timestamp\u001b[39m\u001b[39m'\u001b[39m][::\u001b[39m500\u001b[39m], rotation\u001b[39m=\u001b[39m\u001b[39m90\u001b[39m)\n\u001b[0;32m     16\u001b[0m \u001b[39m# Create a second set of y-axes with the same x-axis\u001b[39;00m\n",
      "\u001b[1;31mAttributeError\u001b[0m: 'AxesSubplot' object has no attribute 'y_lim'"
     ]
    },
    {
     "data": {
      "image/png": "[encoded data removed]",
      "text/plain": [
       "<Figure size 640x480 with 1 Axes>"
      ]
     },
     "metadata": {},
     "output_type": "display_data"
    }
   ],
   "source": [
    "import matplotlib.pyplot as plt\n",
    "import numpy as np\n",
    "\n",
    "# Create a figure and a set of subplots\n",
    "fig, ax1 = plt.subplots()\n",
    "\n",
    "# Plot the data on the first set of y-axes\n",
    "ax1.bar(HUNT_PRICE['block_timestamp'], HUNT_PRICE['market_cap'], color='b')\n",
    "ax1.set_xlabel('block timestamp')\n",
    "ax1.set_ylabel('market cap', color='b')\n",
    "ax1.tick_params(axis='y', labelcolor='b')\n",
    "ax1.set_ylim(0, 100000000000)\n",
    "plt.xticks(HUNT_PRICE['block_timestamp'][::500], rotation=90)\n",
    "\n",
    "\n",
    "# Create a second set of y-axes with the same x-axis\n",
    "ax2 = ax1.twinx()\n",
    "\n",
    "# Plot the data on the second set of y-axes\n",
    "ax2.plot(HUNT_PRICE['block_timestamp'], HUNT_PRICE['huntprice'], color='r')\n",
    "ax2.set_ylabel('hunt price', color='r')\n",
    "ax2.tick_params(axis='y', labelcolor='r')\n",
    "\n",
    "# Show the plot\n",
    "plt.show()\n"
   ]
  },
  {
   "cell_type": "code",
   "execution_count": 24,
   "metadata": {},
   "outputs": [
    {
     "data": {
      "text/html": [
       "<div>\n",
       "<style scoped>\n",
       "    .dataframe tbody tr th:only-of-type {\n",
       "        vertical-align: middle;\n",
       "    }\n",
       "\n",
       "    .dataframe tbody tr th {\n",
       "        vertical-align: top;\n",
       "    }\n",
       "\n",
       "    .dataframe thead th {\n",
       "        text-align: right;\n",
       "    }\n",
       "</style>\n",
       "<table border=\"1\" class=\"dataframe\">\n",
       "  <thead>\n",
       "    <tr style=\"text-align: right;\">\n",
       "      <th></th>\n",
       "      <th>block_timestamp</th>\n",
       "      <th>huntprice</th>\n",
       "      <th>market_cap</th>\n",
       "    </tr>\n",
       "  </thead>\n",
       "  <tbody>\n",
       "    <tr>\n",
       "      <th>0</th>\n",
       "      <td>2022-04-08 05:04:48</td>\n",
       "      <td>0.908356</td>\n",
       "      <td>1.224821e+05</td>\n",
       "    </tr>\n",
       "    <tr>\n",
       "      <th>1</th>\n",
       "      <td>2022-04-08 05:04:48</td>\n",
       "      <td>0.908356</td>\n",
       "      <td>1.224821e+05</td>\n",
       "    </tr>\n",
       "    <tr>\n",
       "      <th>2</th>\n",
       "      <td>2022-04-08 05:12:15</td>\n",
       "      <td>0.908356</td>\n",
       "      <td>2.596151e+06</td>\n",
       "    </tr>\n",
       "    <tr>\n",
       "      <th>3</th>\n",
       "      <td>2022-04-08 09:53:01</td>\n",
       "      <td>0.935226</td>\n",
       "      <td>2.723853e+06</td>\n",
       "    </tr>\n",
       "    <tr>\n",
       "      <th>4</th>\n",
       "      <td>2022-04-08 09:56:40</td>\n",
       "      <td>0.943249</td>\n",
       "      <td>2.758770e+06</td>\n",
       "    </tr>\n",
       "    <tr>\n",
       "      <th>...</th>\n",
       "      <td>...</td>\n",
       "      <td>...</td>\n",
       "      <td>...</td>\n",
       "    </tr>\n",
       "    <tr>\n",
       "      <th>6371</th>\n",
       "      <td>2023-02-04 15:21:11</td>\n",
       "      <td>0.361388</td>\n",
       "      <td>NaN</td>\n",
       "    </tr>\n",
       "    <tr>\n",
       "      <th>6372</th>\n",
       "      <td>2023-02-04 15:51:23</td>\n",
       "      <td>0.362334</td>\n",
       "      <td>NaN</td>\n",
       "    </tr>\n",
       "    <tr>\n",
       "      <th>6373</th>\n",
       "      <td>2023-02-04 18:36:23</td>\n",
       "      <td>0.363351</td>\n",
       "      <td>NaN</td>\n",
       "    </tr>\n",
       "    <tr>\n",
       "      <th>6374</th>\n",
       "      <td>2023-02-04 23:49:11</td>\n",
       "      <td>0.361194</td>\n",
       "      <td>NaN</td>\n",
       "    </tr>\n",
       "    <tr>\n",
       "      <th>6375</th>\n",
       "      <td>2023-02-04 23:52:11</td>\n",
       "      <td>0.357945</td>\n",
       "      <td>NaN</td>\n",
       "    </tr>\n",
       "  </tbody>\n",
       "</table>\n",
       "<p>6376 rows × 3 columns</p>\n",
       "</div>"
      ],
      "text/plain": [
       "          block_timestamp  huntprice    market_cap\n",
       "0     2022-04-08 05:04:48   0.908356  1.224821e+05\n",
       "1     2022-04-08 05:04:48   0.908356  1.224821e+05\n",
       "2     2022-04-08 05:12:15   0.908356  2.596151e+06\n",
       "3     2022-04-08 09:53:01   0.935226  2.723853e+06\n",
       "4     2022-04-08 09:56:40   0.943249  2.758770e+06\n",
       "...                   ...        ...           ...\n",
       "6371  2023-02-04 15:21:11   0.361388           NaN\n",
       "6372  2023-02-04 15:51:23   0.362334           NaN\n",
       "6373  2023-02-04 18:36:23   0.363351           NaN\n",
       "6374  2023-02-04 23:49:11   0.361194           NaN\n",
       "6375  2023-02-04 23:52:11   0.357945           NaN\n",
       "\n",
       "[6376 rows x 3 columns]"
      ]
     },
     "execution_count": 24,
     "metadata": {},
     "output_type": "execute_result"
    }
   ],
   "source": [
    "HUNT_PRICE"
   ]
  },
  {
   "cell_type": "code",
   "execution_count": null,
   "metadata": {},
   "outputs": [],
   "source": []
  }
 ],
 "metadata": {
  "kernelspec": {
   "display_name": "Python 3",
   "language": "python",
   "name": "python3"
  },
  "language_info": {
   "codemirror_mode": {
    "name": "ipython",
    "version": 3
   },
   "file_extension": ".py",
   "mimetype": "text/x-python",
   "name": "python",
   "nbconvert_exporter": "python",
   "pygments_lexer": "ipython3",
   "version": "3.9.12"
  },
  "orig_nbformat": 4,
  "vscode": {
   "interpreter": {
    "hash": "c815d5522d730692d6fc1bd8cf8011d5716afbe816a33b6bfcadd78ff6b33837"
   }
  }
 },
 "nbformat": 4,
 "nbformat_minor": 2
}
