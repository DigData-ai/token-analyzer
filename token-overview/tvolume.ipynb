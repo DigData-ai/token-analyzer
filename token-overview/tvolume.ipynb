{
 "cells": [
  {
   "cell_type": "code",
   "execution_count": 21,
   "metadata": {},
   "outputs": [
    {
     "data": {
      "text/html": [
       "<div>\n",
       "<style scoped>\n",
       "    .dataframe tbody tr th:only-of-type {\n",
       "        vertical-align: middle;\n",
       "    }\n",
       "\n",
       "    .dataframe tbody tr th {\n",
       "        vertical-align: top;\n",
       "    }\n",
       "\n",
       "    .dataframe thead th {\n",
       "        text-align: right;\n",
       "    }\n",
       "</style>\n",
       "<table border=\"1\" class=\"dataframe\">\n",
       "  <thead>\n",
       "    <tr style=\"text-align: right;\">\n",
       "      <th></th>\n",
       "      <th>block_number</th>\n",
       "      <th>block_timestamp</th>\n",
       "      <th>transaction_hash</th>\n",
       "      <th>transaction_index</th>\n",
       "      <th>log_index</th>\n",
       "      <th>gas_price_eth</th>\n",
       "      <th>gas_price</th>\n",
       "      <th>trx_initiator</th>\n",
       "      <th>trx_destination</th>\n",
       "      <th>event_name</th>\n",
       "      <th>token0_in</th>\n",
       "      <th>token1_in</th>\n",
       "      <th>token0_out</th>\n",
       "      <th>token1_out</th>\n",
       "      <th>from_address</th>\n",
       "      <th>to_address</th>\n",
       "      <th>value</th>\n",
       "      <th>spot_price</th>\n",
       "    </tr>\n",
       "  </thead>\n",
       "  <tbody>\n",
       "    <tr>\n",
       "      <th>0</th>\n",
       "      <td>16098989</td>\n",
       "      <td>2022-12-02 18:43:23.000</td>\n",
       "      <td>0x61f80bdd947371d2e2a733095224c3791ef6a9d09c71...</td>\n",
       "      <td>142</td>\n",
       "      <td>254</td>\n",
       "      <td>0.014268</td>\n",
       "      <td>19526874139</td>\n",
       "      <td>0xa308de214e01c365834e3344c1088b0d2b97559c</td>\n",
       "      <td>0x38f600e08540178719bf656e6b43fc15a529c393</td>\n",
       "      <td>NaN</td>\n",
       "      <td>NaN</td>\n",
       "      <td>NaN</td>\n",
       "      <td>NaN</td>\n",
       "      <td>NaN</td>\n",
       "      <td>0x0000000000000000000000000000000000000000</td>\n",
       "      <td>0x38f600e08540178719bf656e6b43fc15a529c393</td>\n",
       "      <td>2.039680</td>\n",
       "      <td>NaN</td>\n",
       "    </tr>\n",
       "    <tr>\n",
       "      <th>1</th>\n",
       "      <td>16098989</td>\n",
       "      <td>2022-12-02 18:43:23.000</td>\n",
       "      <td>0x61f80bdd947371d2e2a733095224c3791ef6a9d09c71...</td>\n",
       "      <td>142</td>\n",
       "      <td>257</td>\n",
       "      <td>0.014268</td>\n",
       "      <td>19526874139</td>\n",
       "      <td>0xa308de214e01c365834e3344c1088b0d2b97559c</td>\n",
       "      <td>0x38f600e08540178719bf656e6b43fc15a529c393</td>\n",
       "      <td>NaN</td>\n",
       "      <td>NaN</td>\n",
       "      <td>NaN</td>\n",
       "      <td>NaN</td>\n",
       "      <td>NaN</td>\n",
       "      <td>0x38f600e08540178719bf656e6b43fc15a529c393</td>\n",
       "      <td>0xa308de214e01c365834e3344c1088b0d2b97559c</td>\n",
       "      <td>2.039680</td>\n",
       "      <td>NaN</td>\n",
       "    </tr>\n",
       "    <tr>\n",
       "      <th>2</th>\n",
       "      <td>16098989</td>\n",
       "      <td>2022-12-02 18:43:23.000</td>\n",
       "      <td>0x61f80bdd947371d2e2a733095224c3791ef6a9d09c71...</td>\n",
       "      <td>142</td>\n",
       "      <td>258</td>\n",
       "      <td>0.014268</td>\n",
       "      <td>19526874139</td>\n",
       "      <td>0xa308de214e01c365834e3344c1088b0d2b97559c</td>\n",
       "      <td>0x38f600e08540178719bf656e6b43fc15a529c393</td>\n",
       "      <td>NaN</td>\n",
       "      <td>NaN</td>\n",
       "      <td>NaN</td>\n",
       "      <td>NaN</td>\n",
       "      <td>NaN</td>\n",
       "      <td>0x38f600e08540178719bf656e6b43fc15a529c393</td>\n",
       "      <td>0xa308de214e01c365834e3344c1088b0d2b97559c</td>\n",
       "      <td>0.000000</td>\n",
       "      <td>NaN</td>\n",
       "    </tr>\n",
       "    <tr>\n",
       "      <th>3</th>\n",
       "      <td>16098999</td>\n",
       "      <td>2022-12-02 18:45:23.000</td>\n",
       "      <td>0x1e5f3558f0cb81f658a8b63c63ab9c423a96af78f604...</td>\n",
       "      <td>138</td>\n",
       "      <td>243</td>\n",
       "      <td>0.002794</td>\n",
       "      <td>15176686844</td>\n",
       "      <td>0xa308de214e01c365834e3344c1088b0d2b97559c</td>\n",
       "      <td>0xc1f33e0cf7e40a67375007104b929e49a581bafe</td>\n",
       "      <td>NaN</td>\n",
       "      <td>NaN</td>\n",
       "      <td>NaN</td>\n",
       "      <td>NaN</td>\n",
       "      <td>NaN</td>\n",
       "      <td>0xa308de214e01c365834e3344c1088b0d2b97559c</td>\n",
       "      <td>0xc1f33e0cf7e40a67375007104b929e49a581bafe</td>\n",
       "      <td>0.018413</td>\n",
       "      <td>NaN</td>\n",
       "    </tr>\n",
       "    <tr>\n",
       "      <th>4</th>\n",
       "      <td>16098999</td>\n",
       "      <td>2022-12-02 18:45:23.000</td>\n",
       "      <td>0x1e5f3558f0cb81f658a8b63c63ab9c423a96af78f604...</td>\n",
       "      <td>138</td>\n",
       "      <td>244</td>\n",
       "      <td>0.002794</td>\n",
       "      <td>15176686844</td>\n",
       "      <td>0xa308de214e01c365834e3344c1088b0d2b97559c</td>\n",
       "      <td>0xc1f33e0cf7e40a67375007104b929e49a581bafe</td>\n",
       "      <td>NaN</td>\n",
       "      <td>NaN</td>\n",
       "      <td>NaN</td>\n",
       "      <td>NaN</td>\n",
       "      <td>NaN</td>\n",
       "      <td>0xa308de214e01c365834e3344c1088b0d2b97559c</td>\n",
       "      <td>0x0000000000000000000000000000000000000000</td>\n",
       "      <td>1.841280</td>\n",
       "      <td>NaN</td>\n",
       "    </tr>\n",
       "  </tbody>\n",
       "</table>\n",
       "</div>"
      ],
      "text/plain": [
       "   block_number          block_timestamp  \\\n",
       "0      16098989  2022-12-02 18:43:23.000   \n",
       "1      16098989  2022-12-02 18:43:23.000   \n",
       "2      16098989  2022-12-02 18:43:23.000   \n",
       "3      16098999  2022-12-02 18:45:23.000   \n",
       "4      16098999  2022-12-02 18:45:23.000   \n",
       "\n",
       "                                    transaction_hash  transaction_index  \\\n",
       "0  0x61f80bdd947371d2e2a733095224c3791ef6a9d09c71...                142   \n",
       "1  0x61f80bdd947371d2e2a733095224c3791ef6a9d09c71...                142   \n",
       "2  0x61f80bdd947371d2e2a733095224c3791ef6a9d09c71...                142   \n",
       "3  0x1e5f3558f0cb81f658a8b63c63ab9c423a96af78f604...                138   \n",
       "4  0x1e5f3558f0cb81f658a8b63c63ab9c423a96af78f604...                138   \n",
       "\n",
       "   log_index  gas_price_eth    gas_price  \\\n",
       "0        254       0.014268  19526874139   \n",
       "1        257       0.014268  19526874139   \n",
       "2        258       0.014268  19526874139   \n",
       "3        243       0.002794  15176686844   \n",
       "4        244       0.002794  15176686844   \n",
       "\n",
       "                                trx_initiator  \\\n",
       "0  0xa308de214e01c365834e3344c1088b0d2b97559c   \n",
       "1  0xa308de214e01c365834e3344c1088b0d2b97559c   \n",
       "2  0xa308de214e01c365834e3344c1088b0d2b97559c   \n",
       "3  0xa308de214e01c365834e3344c1088b0d2b97559c   \n",
       "4  0xa308de214e01c365834e3344c1088b0d2b97559c   \n",
       "\n",
       "                              trx_destination event_name  token0_in  \\\n",
       "0  0x38f600e08540178719bf656e6b43fc15a529c393        NaN        NaN   \n",
       "1  0x38f600e08540178719bf656e6b43fc15a529c393        NaN        NaN   \n",
       "2  0x38f600e08540178719bf656e6b43fc15a529c393        NaN        NaN   \n",
       "3  0xc1f33e0cf7e40a67375007104b929e49a581bafe        NaN        NaN   \n",
       "4  0xc1f33e0cf7e40a67375007104b929e49a581bafe        NaN        NaN   \n",
       "\n",
       "   token1_in  token0_out  token1_out  \\\n",
       "0        NaN         NaN         NaN   \n",
       "1        NaN         NaN         NaN   \n",
       "2        NaN         NaN         NaN   \n",
       "3        NaN         NaN         NaN   \n",
       "4        NaN         NaN         NaN   \n",
       "\n",
       "                                 from_address  \\\n",
       "0  0x0000000000000000000000000000000000000000   \n",
       "1  0x38f600e08540178719bf656e6b43fc15a529c393   \n",
       "2  0x38f600e08540178719bf656e6b43fc15a529c393   \n",
       "3  0xa308de214e01c365834e3344c1088b0d2b97559c   \n",
       "4  0xa308de214e01c365834e3344c1088b0d2b97559c   \n",
       "\n",
       "                                   to_address     value  spot_price  \n",
       "0  0x38f600e08540178719bf656e6b43fc15a529c393  2.039680         NaN  \n",
       "1  0xa308de214e01c365834e3344c1088b0d2b97559c  2.039680         NaN  \n",
       "2  0xa308de214e01c365834e3344c1088b0d2b97559c  0.000000         NaN  \n",
       "3  0xc1f33e0cf7e40a67375007104b929e49a581bafe  0.018413         NaN  \n",
       "4  0x0000000000000000000000000000000000000000  1.841280         NaN  "
      ]
     },
     "execution_count": 21,
     "metadata": {},
     "output_type": "execute_result"
    }
   ],
   "source": [
    "import pandas as pd\n",
    "\n",
    "# Load the data into a pandas DataFrame\n",
    "data = pd.read_csv('spot_2.csv')\n",
    "data.head()\n"
   ]
  },
  {
   "cell_type": "code",
   "execution_count": null,
   "metadata": {},
   "outputs": [],
   "source": []
  },
  {
   "cell_type": "code",
   "execution_count": 22,
   "metadata": {},
   "outputs": [],
   "source": [
    "data = data[data[\"event_name\"] == \"Swap\"]"
   ]
  },
  {
   "cell_type": "code",
   "execution_count": 23,
   "metadata": {},
   "outputs": [],
   "source": [
    "type(data)\n",
    "data.dropna(subset=[\"event_name\"], inplace=True)"
   ]
  },
  {
   "cell_type": "code",
   "execution_count": 24,
   "metadata": {},
   "outputs": [
    {
     "data": {
      "text/plain": [
       "(665, 18)"
      ]
     },
     "execution_count": 24,
     "metadata": {},
     "output_type": "execute_result"
    }
   ],
   "source": [
    "# Sort the data by timestamp\n",
    "data.sort_values(by='block_timestamp', inplace=True)\n",
    "data.shape\n"
   ]
  },
  {
   "cell_type": "code",
   "execution_count": 25,
   "metadata": {},
   "outputs": [],
   "source": [
    "\n",
    "data.drop_duplicates(subset=[\"transaction_hash\"], inplace=True)"
   ]
  },
  {
   "cell_type": "code",
   "execution_count": 26,
   "metadata": {},
   "outputs": [
    {
     "data": {
      "text/plain": [
       "(665, 18)"
      ]
     },
     "execution_count": 26,
     "metadata": {},
     "output_type": "execute_result"
    }
   ],
   "source": [
    "data.shape"
   ]
  },
  {
   "cell_type": "code",
   "execution_count": null,
   "metadata": {},
   "outputs": [],
   "source": []
  },
  {
   "cell_type": "code",
   "execution_count": 27,
   "metadata": {},
   "outputs": [
    {
     "name": "stderr",
     "output_type": "stream",
     "text": [
      "C:\\Users\\user\\AppData\\Local\\Temp\\ipykernel_11560\\2828775815.py:9: SettingWithCopyWarning: \n",
      "A value is trying to be set on a copy of a slice from a DataFrame\n",
      "\n",
      "See the caveats in the documentation: https://pandas.pydata.org/pandas-docs/stable/user_guide/indexing.html#returning-a-view-versus-a-copy\n",
      "  data[\"value\"].iloc[i] = (data[\"token1_in\"].iloc[i] + data[\"token1_out\"].iloc[i])\n"
     ]
    }
   ],
   "source": [
    "data.drop_duplicates(subset=[\"transaction_hash\"], inplace=True)\n",
    "data.shape\n",
    "data.fillna(0, inplace=True)\n",
    "data[\"block_timestamp\"] = pd.to_datetime(data[\"block_timestamp\"])\n",
    "\n",
    "for i in range(data.shape[0]):\n",
    "    if(data[\"value\"].iloc[i] == 0.00):\n",
    "        #print(data[\"value\"].iloc[0] , \"   \",  (data[\"token1_in\"].iloc[i] + data[\"token1_out\"].iloc[i]))\n",
    "        data[\"value\"].iloc[i] = (data[\"token1_in\"].iloc[i] + data[\"token1_out\"].iloc[i])"
   ]
  },
  {
   "cell_type": "code",
   "execution_count": null,
   "metadata": {},
   "outputs": [],
   "source": []
  },
  {
   "cell_type": "code",
   "execution_count": 28,
   "metadata": {},
   "outputs": [
    {
     "name": "stderr",
     "output_type": "stream",
     "text": [
      "C:\\Users\\user\\AppData\\Local\\Temp\\ipykernel_11560\\962792247.py:2: SettingWithCopyWarning: \n",
      "A value is trying to be set on a copy of a slice from a DataFrame.\n",
      "Try using .loc[row_indexer,col_indexer] = value instead\n",
      "\n",
      "See the caveats in the documentation: https://pandas.pydata.org/pandas-docs/stable/user_guide/indexing.html#returning-a-view-versus-a-copy\n",
      "  LAST_7_DAYS[\"Sum\"] = (LAST_7_DAYS[\"value\"]) * LAST_7_DAYS[\"spot_price\"]\n",
      "C:\\Users\\user\\AppData\\Local\\Temp\\ipykernel_11560\\962792247.py:3: FutureWarning: The default value of numeric_only in DataFrameGroupBy.sum is deprecated. In a future version, numeric_only will default to False. Either specify numeric_only or select only columns which should be valid for the function.\n",
      "  LAST_7_DAYS = LAST_7_DAYS.groupby([LAST_7_DAYS[\"block_timestamp\"].dt.day]).agg(\"sum\")\n"
     ]
    }
   ],
   "source": [
    "LAST_7_DAYS = data[(data[\"block_timestamp\"] >= dt1) & (data[\"block_timestamp\"] <=dt2)]\n",
    "LAST_7_DAYS[\"Sum\"] = (LAST_7_DAYS[\"value\"]) * LAST_7_DAYS[\"spot_price\"]\n",
    "LAST_7_DAYS = LAST_7_DAYS.groupby([LAST_7_DAYS[\"block_timestamp\"].dt.day]).agg(\"sum\")"
   ]
  },
  {
   "cell_type": "markdown",
   "metadata": {},
   "source": []
  },
  {
   "cell_type": "code",
   "execution_count": null,
   "metadata": {},
   "outputs": [],
   "source": []
  },
  {
   "cell_type": "code",
   "execution_count": 29,
   "metadata": {},
   "outputs": [
    {
     "data": {
      "text/html": [
       "<div>\n",
       "<style scoped>\n",
       "    .dataframe tbody tr th:only-of-type {\n",
       "        vertical-align: middle;\n",
       "    }\n",
       "\n",
       "    .dataframe tbody tr th {\n",
       "        vertical-align: top;\n",
       "    }\n",
       "\n",
       "    .dataframe thead th {\n",
       "        text-align: right;\n",
       "    }\n",
       "</style>\n",
       "<table border=\"1\" class=\"dataframe\">\n",
       "  <thead>\n",
       "    <tr style=\"text-align: right;\">\n",
       "      <th></th>\n",
       "      <th>block_number</th>\n",
       "      <th>transaction_index</th>\n",
       "      <th>log_index</th>\n",
       "      <th>gas_price_eth</th>\n",
       "      <th>gas_price</th>\n",
       "      <th>token0_in</th>\n",
       "      <th>token1_in</th>\n",
       "      <th>token0_out</th>\n",
       "      <th>token1_out</th>\n",
       "      <th>from_address</th>\n",
       "      <th>to_address</th>\n",
       "      <th>value</th>\n",
       "      <th>spot_price</th>\n",
       "      <th>Sum</th>\n",
       "    </tr>\n",
       "    <tr>\n",
       "      <th>block_timestamp</th>\n",
       "      <th></th>\n",
       "      <th></th>\n",
       "      <th></th>\n",
       "      <th></th>\n",
       "      <th></th>\n",
       "      <th></th>\n",
       "      <th></th>\n",
       "      <th></th>\n",
       "      <th></th>\n",
       "      <th></th>\n",
       "      <th></th>\n",
       "      <th></th>\n",
       "      <th></th>\n",
       "      <th></th>\n",
       "    </tr>\n",
       "  </thead>\n",
       "  <tbody>\n",
       "    <tr>\n",
       "      <th>1</th>\n",
       "      <td>66143224</td>\n",
       "      <td>439</td>\n",
       "      <td>968</td>\n",
       "      <td>0.030176</td>\n",
       "      <td>113867930027</td>\n",
       "      <td>4046.164162</td>\n",
       "      <td>712.346641</td>\n",
       "      <td>812.821031</td>\n",
       "      <td>3524.779465</td>\n",
       "      <td>0</td>\n",
       "      <td>0</td>\n",
       "      <td>4237.126105</td>\n",
       "      <td>4.578035</td>\n",
       "      <td>4858.985193</td>\n",
       "    </tr>\n",
       "    <tr>\n",
       "      <th>2</th>\n",
       "      <td>297726438</td>\n",
       "      <td>1563</td>\n",
       "      <td>3373</td>\n",
       "      <td>0.101725</td>\n",
       "      <td>399706582288</td>\n",
       "      <td>17591.461410</td>\n",
       "      <td>41832.011679</td>\n",
       "      <td>47654.893508</td>\n",
       "      <td>15348.746181</td>\n",
       "      <td>0</td>\n",
       "      <td>0</td>\n",
       "      <td>57180.757860</td>\n",
       "      <td>20.518949</td>\n",
       "      <td>65246.354918</td>\n",
       "    </tr>\n",
       "    <tr>\n",
       "      <th>3</th>\n",
       "      <td>33097049</td>\n",
       "      <td>136</td>\n",
       "      <td>246</td>\n",
       "      <td>0.016678</td>\n",
       "      <td>63700351675</td>\n",
       "      <td>7138.383861</td>\n",
       "      <td>4026.126029</td>\n",
       "      <td>4580.753202</td>\n",
       "      <td>6237.443162</td>\n",
       "      <td>0</td>\n",
       "      <td>0</td>\n",
       "      <td>10263.569190</td>\n",
       "      <td>2.282198</td>\n",
       "      <td>11719.137063</td>\n",
       "    </tr>\n",
       "    <tr>\n",
       "      <th>4</th>\n",
       "      <td>215212920</td>\n",
       "      <td>834</td>\n",
       "      <td>1922</td>\n",
       "      <td>0.067225</td>\n",
       "      <td>268765984087</td>\n",
       "      <td>613.481084</td>\n",
       "      <td>26942.776520</td>\n",
       "      <td>30590.367462</td>\n",
       "      <td>537.600793</td>\n",
       "      <td>0</td>\n",
       "      <td>0</td>\n",
       "      <td>27480.377313</td>\n",
       "      <td>14.784280</td>\n",
       "      <td>31203.848546</td>\n",
       "    </tr>\n",
       "    <tr>\n",
       "      <th>5</th>\n",
       "      <td>82811917</td>\n",
       "      <td>853</td>\n",
       "      <td>1409</td>\n",
       "      <td>0.020062</td>\n",
       "      <td>98906250479</td>\n",
       "      <td>664.011047</td>\n",
       "      <td>815.966939</td>\n",
       "      <td>924.755680</td>\n",
       "      <td>582.391481</td>\n",
       "      <td>0</td>\n",
       "      <td>0</td>\n",
       "      <td>1398.358420</td>\n",
       "      <td>5.680216</td>\n",
       "      <td>1588.766727</td>\n",
       "    </tr>\n",
       "    <tr>\n",
       "      <th>6</th>\n",
       "      <td>49706738</td>\n",
       "      <td>188</td>\n",
       "      <td>507</td>\n",
       "      <td>0.018408</td>\n",
       "      <td>70563124329</td>\n",
       "      <td>15000.000000</td>\n",
       "      <td>5381.860215</td>\n",
       "      <td>6098.934689</td>\n",
       "      <td>13152.360492</td>\n",
       "      <td>0</td>\n",
       "      <td>0</td>\n",
       "      <td>18534.220707</td>\n",
       "      <td>3.408058</td>\n",
       "      <td>21098.934689</td>\n",
       "    </tr>\n",
       "    <tr>\n",
       "      <th>7</th>\n",
       "      <td>49727637</td>\n",
       "      <td>112</td>\n",
       "      <td>471</td>\n",
       "      <td>0.023848</td>\n",
       "      <td>80846802845</td>\n",
       "      <td>8177.818314</td>\n",
       "      <td>7122.522395</td>\n",
       "      <td>8084.447593</td>\n",
       "      <td>7161.618534</td>\n",
       "      <td>0</td>\n",
       "      <td>0</td>\n",
       "      <td>14284.140928</td>\n",
       "      <td>3.418956</td>\n",
       "      <td>16262.265907</td>\n",
       "    </tr>\n",
       "  </tbody>\n",
       "</table>\n",
       "</div>"
      ],
      "text/plain": [
       "                 block_number  transaction_index  log_index  gas_price_eth  \\\n",
       "block_timestamp                                                              \n",
       "1                    66143224                439        968       0.030176   \n",
       "2                   297726438               1563       3373       0.101725   \n",
       "3                    33097049                136        246       0.016678   \n",
       "4                   215212920                834       1922       0.067225   \n",
       "5                    82811917                853       1409       0.020062   \n",
       "6                    49706738                188        507       0.018408   \n",
       "7                    49727637                112        471       0.023848   \n",
       "\n",
       "                    gas_price     token0_in     token1_in    token0_out  \\\n",
       "block_timestamp                                                           \n",
       "1                113867930027   4046.164162    712.346641    812.821031   \n",
       "2                399706582288  17591.461410  41832.011679  47654.893508   \n",
       "3                 63700351675   7138.383861   4026.126029   4580.753202   \n",
       "4                268765984087    613.481084  26942.776520  30590.367462   \n",
       "5                 98906250479    664.011047    815.966939    924.755680   \n",
       "6                 70563124329  15000.000000   5381.860215   6098.934689   \n",
       "7                 80846802845   8177.818314   7122.522395   8084.447593   \n",
       "\n",
       "                   token1_out  from_address  to_address         value  \\\n",
       "block_timestamp                                                         \n",
       "1                 3524.779465             0           0   4237.126105   \n",
       "2                15348.746181             0           0  57180.757860   \n",
       "3                 6237.443162             0           0  10263.569190   \n",
       "4                  537.600793             0           0  27480.377313   \n",
       "5                  582.391481             0           0   1398.358420   \n",
       "6                13152.360492             0           0  18534.220707   \n",
       "7                 7161.618534             0           0  14284.140928   \n",
       "\n",
       "                 spot_price           Sum  \n",
       "block_timestamp                            \n",
       "1                  4.578035   4858.985193  \n",
       "2                 20.518949  65246.354918  \n",
       "3                  2.282198  11719.137063  \n",
       "4                 14.784280  31203.848546  \n",
       "5                  5.680216   1588.766727  \n",
       "6                  3.408058  21098.934689  \n",
       "7                  3.418956  16262.265907  "
      ]
     },
     "execution_count": 29,
     "metadata": {},
     "output_type": "execute_result"
    }
   ],
   "source": [
    "LAST_7_DAYS"
   ]
  },
  {
   "cell_type": "code",
   "execution_count": 30,
   "metadata": {},
   "outputs": [
    {
     "name": "stdout",
     "output_type": "stream",
     "text": [
      "2023-02-01\n"
     ]
    }
   ],
   "source": [
    "from datetime import datetime\n",
    "dt = \"2023-02-01\"\n",
    "dt1 = datetime.strptime(dt, \"%Y-%m-%d\")\n",
    "print(dt)\n",
    "dt = \"2023-02-08\"\n",
    "dt2 = datetime.strptime(dt, \"%Y-%m-%d\")"
   ]
  },
  {
   "cell_type": "code",
   "execution_count": 33,
   "metadata": {},
   "outputs": [
    {
     "data": {
      "text/plain": [
       "<AxesSubplot:xlabel='Time', ylabel='Sum'>"
      ]
     },
     "execution_count": 33,
     "metadata": {},
     "output_type": "execute_result"
    },
    {
     "data": {
      "image/png": "[encoded data removed]",
      "text/plain": [
       "<Figure size 432x288 with 1 Axes>"
      ]
     },
     "metadata": {
      "needs_background": "light"
     },
     "output_type": "display_data"
    }
   ],
   "source": [
    "import seaborn as sns\n",
    "\n",
    "sns.barplot(LAST_7_DAYS, x = \"Time\", y = \"Sum\")"
   ]
  },
  {
   "cell_type": "code",
   "execution_count": 32,
   "metadata": {},
   "outputs": [],
   "source": [
    "LAST_7_DAYS[\"Time\"] = LAST_7_DAYS.index"
   ]
  },
  {
   "cell_type": "code",
   "execution_count": null,
   "metadata": {},
   "outputs": [],
   "source": []
  },
  {
   "cell_type": "code",
   "execution_count": null,
   "metadata": {},
   "outputs": [],
   "source": []
  },
  {
   "cell_type": "code",
   "execution_count": null,
   "metadata": {},
   "outputs": [],
   "source": []
  },
  {
   "cell_type": "code",
   "execution_count": null,
   "metadata": {},
   "outputs": [],
   "source": []
  }
 ],
 "metadata": {
  "kernelspec": {
   "display_name": "Python 3",
   "language": "python",
   "name": "python3"
  },
  "language_info": {
   "codemirror_mode": {
    "name": "ipython",
    "version": 3
   },
   "file_extension": ".py",
   "mimetype": "text/x-python",
   "name": "python",
   "nbconvert_exporter": "python",
   "pygments_lexer": "ipython3",
   "version": "3.10.5"
  },
  "orig_nbformat": 4,
  "vscode": {
   "interpreter": {
    "hash": "fb4569285eef3a3450cb62085a5b1e0da4bce0af555edc33dcf29baf3acc1368"
   }
  }
 },
 "nbformat": 4,
 "nbformat_minor": 2
}
