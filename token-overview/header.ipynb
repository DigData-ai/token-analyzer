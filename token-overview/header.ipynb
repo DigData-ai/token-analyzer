{
 "cells": [
  {
   "cell_type": "code",
   "execution_count": 24,
   "metadata": {},
   "outputs": [],
   "source": [
    "import pandas as pd\n",
    "import numpy as np"
   ]
  },
  {
   "cell_type": "code",
   "execution_count": 25,
   "metadata": {},
   "outputs": [],
   "source": [
    "HUNT_PRICE = pd.read_csv('HUNT/price.csv')\n",
    "HUNT_TVL = pd.read_csv('HUNT/TVL.csv')"
   ]
  },
  {
   "cell_type": "code",
   "execution_count": 26,
   "metadata": {},
   "outputs": [],
   "source": [
    "from datetime import datetime\n",
    "\n",
    "TOKEN_NAME = 'HUNT'\n",
    "PRICE = HUNT_PRICE.sort_values(by='block_timestamp', ascending=True).iloc[0, 1]\n",
    "TVL = HUNT_TVL.sort_values(by='block_timestamp', ascending=False).iloc[0, 1]\n",
    "AGE = (datetime.now() - datetime.strptime(HUNT_PRICE.sort_values(by='block_timestamp', ascending=True).iloc[0, 0], '%Y-%m-%d %H:%M:%S')).days\n",
    "VOLATILITY = np.std(HUNT_PRICE.sort_values(by='block_timestamp', ascending=True).iloc[:, 1])\n",
    "MARKETCAP = PRICE * TVL\n",
    "CURRENT_SUPPLY = TVL / PRICE"
   ]
  },
  {
   "cell_type": "code",
   "execution_count": 27,
   "metadata": {},
   "outputs": [],
   "source": [
    "# create a dataframe to store the data\n",
    "HUNT_HEADER = pd.DataFrame(columns=['Token', 'Price', 'TVL', 'Age', 'Volatility', 'Market Cap', 'Current Supply'])\n",
    "HUNT_HEADER.loc[0] = [TOKEN_NAME, PRICE, TVL, AGE, VOLATILITY, MARKETCAP, CURRENT_SUPPLY]"
   ]
  },
  {
   "cell_type": "code",
   "execution_count": 28,
   "metadata": {},
   "outputs": [
    {
     "data": {
      "text/html": [
       "<div>\n",
       "<style scoped>\n",
       "    .dataframe tbody tr th:only-of-type {\n",
       "        vertical-align: middle;\n",
       "    }\n",
       "\n",
       "    .dataframe tbody tr th {\n",
       "        vertical-align: top;\n",
       "    }\n",
       "\n",
       "    .dataframe thead th {\n",
       "        text-align: right;\n",
       "    }\n",
       "</style>\n",
       "<table border=\"1\" class=\"dataframe\">\n",
       "  <thead>\n",
       "    <tr style=\"text-align: right;\">\n",
       "      <th></th>\n",
       "      <th>Token</th>\n",
       "      <th>Price</th>\n",
       "      <th>TVL</th>\n",
       "      <th>Age</th>\n",
       "      <th>Volatility</th>\n",
       "      <th>Market Cap</th>\n",
       "      <th>Current Supply</th>\n",
       "    </tr>\n",
       "  </thead>\n",
       "  <tbody>\n",
       "    <tr>\n",
       "      <th>0</th>\n",
       "      <td>HUNT</td>\n",
       "      <td>0.908356</td>\n",
       "      <td>3.381773e+06</td>\n",
       "      <td>306</td>\n",
       "      <td>0.110343</td>\n",
       "      <td>3.071853e+06</td>\n",
       "      <td>3.722962e+06</td>\n",
       "    </tr>\n",
       "  </tbody>\n",
       "</table>\n",
       "</div>"
      ],
      "text/plain": [
       "  Token     Price           TVL  Age  Volatility    Market Cap  Current Supply\n",
       "0  HUNT  0.908356  3.381773e+06  306    0.110343  3.071853e+06    3.722962e+06"
      ]
     },
     "execution_count": 28,
     "metadata": {},
     "output_type": "execute_result"
    }
   ],
   "source": [
    "HUNT_HEADER"
   ]
  }
 ],
 "metadata": {
  "kernelspec": {
   "display_name": "Python 3",
   "language": "python",
   "name": "python3"
  },
  "language_info": {
   "codemirror_mode": {
    "name": "ipython",
    "version": 3
   },
   "file_extension": ".py",
   "mimetype": "text/x-python",
   "name": "python",
   "nbconvert_exporter": "python",
   "pygments_lexer": "ipython3",
   "version": "3.9.12"
  },
  "orig_nbformat": 4,
  "vscode": {
   "interpreter": {
    "hash": "c815d5522d730692d6fc1bd8cf8011d5716afbe816a33b6bfcadd78ff6b33837"
   }
  }
 },
 "nbformat": 4,
 "nbformat_minor": 2
}
