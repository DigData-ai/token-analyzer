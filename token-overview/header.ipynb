{
 "cells": [
  {
   "cell_type": "code",
   "execution_count": 1,
   "metadata": {},
   "outputs": [],
   "source": [
    "import pandas as pd\n",
    "import numpy as np\n",
    "from datetime import datetime"
   ]
  },
  {
   "cell_type": "code",
   "execution_count": 2,
   "metadata": {},
   "outputs": [],
   "source": [
    "HUNT_PRICE = pd.read_csv('HUNT/price.csv')\n",
    "HUNT_TVL = pd.read_csv('HUNT/TVL.csv')"
   ]
  },
  {
   "cell_type": "code",
   "execution_count": 3,
   "metadata": {},
   "outputs": [],
   "source": [
    "TOKEN_NAME = 'HUNT'\n",
    "PRICE = HUNT_PRICE.sort_values(by='block_timestamp', ascending=True).iloc[0, 1]\n",
    "TVL = HUNT_TVL.sort_values(by='block_timestamp', ascending=False).iloc[0, 1]\n",
    "AGE = (datetime.now() - datetime.strptime(HUNT_PRICE.sort_values(by='block_timestamp', ascending=True).iloc[0, 0], '%Y-%m-%d %H:%M:%S')).days\n",
    "VOLATILITY = np.std(HUNT_PRICE.sort_values(by='block_timestamp', ascending=True).iloc[:, 1])\n",
    "MARKETCAP = PRICE * TVL\n",
    "CURRENT_SUPPLY = TVL / PRICE"
   ]
  },
  {
   "cell_type": "code",
   "execution_count": 4,
   "metadata": {},
   "outputs": [],
   "source": [
    "HUNT_HEADER = pd.DataFrame(columns=['Token', 'Price', 'TVL', 'Age', 'Volatility', 'Market Cap', 'Current Supply'])\n",
    "HUNT_HEADER.loc[0] = [TOKEN_NAME, PRICE, TVL, AGE, VOLATILITY, MARKETCAP, CURRENT_SUPPLY]"
   ]
  },
  {
   "attachments": {},
   "cell_type": "markdown",
   "metadata": {},
   "source": [
    "## RESULT OF NOTEBOOK"
   ]
  },
  {
   "cell_type": "code",
   "execution_count": 5,
   "metadata": {},
   "outputs": [
    {
     "data": {
      "text/html": [
       "<div>\n",
       "<style scoped>\n",
       "    .dataframe tbody tr th:only-of-type {\n",
       "        vertical-align: middle;\n",
       "    }\n",
       "\n",
       "    .dataframe tbody tr th {\n",
       "        vertical-align: top;\n",
       "    }\n",
       "\n",
       "    .dataframe thead th {\n",
       "        text-align: right;\n",
       "    }\n",
       "</style>\n",
       "<table border=\"1\" class=\"dataframe\">\n",
       "  <thead>\n",
       "    <tr style=\"text-align: right;\">\n",
       "      <th></th>\n",
       "      <th>Token</th>\n",
       "      <th>Price</th>\n",
       "      <th>TVL</th>\n",
       "      <th>Age</th>\n",
       "      <th>Volatility</th>\n",
       "      <th>Market Cap</th>\n",
       "      <th>Current Supply</th>\n",
       "    </tr>\n",
       "  </thead>\n",
       "  <tbody>\n",
       "    <tr>\n",
       "      <th>0</th>\n",
       "      <td>HUNT</td>\n",
       "      <td>0.908356</td>\n",
       "      <td>3.381773e+06</td>\n",
       "      <td>371</td>\n",
       "      <td>0.110343</td>\n",
       "      <td>3.071853e+06</td>\n",
       "      <td>3.722962e+06</td>\n",
       "    </tr>\n",
       "  </tbody>\n",
       "</table>\n",
       "</div>"
      ],
      "text/plain": [
       "  Token     Price           TVL  Age  Volatility    Market Cap  Current Supply\n",
       "0  HUNT  0.908356  3.381773e+06  371    0.110343  3.071853e+06    3.722962e+06"
      ]
     },
     "execution_count": 5,
     "metadata": {},
     "output_type": "execute_result"
    }
   ],
   "source": [
    "HUNT_HEADER"
   ]
  },
  {
   "cell_type": "code",
   "execution_count": 10,
   "metadata": {},
   "outputs": [],
   "source": [
    "HUNT_PRICE['rolling_volatility'] = HUNT_PRICE['huntprice'].rolling(window=30).std()"
   ]
  },
  {
   "cell_type": "code",
   "execution_count": 11,
   "metadata": {},
   "outputs": [
    {
     "data": {
      "text/html": [
       "<div>\n",
       "<style scoped>\n",
       "    .dataframe tbody tr th:only-of-type {\n",
       "        vertical-align: middle;\n",
       "    }\n",
       "\n",
       "    .dataframe tbody tr th {\n",
       "        vertical-align: top;\n",
       "    }\n",
       "\n",
       "    .dataframe thead th {\n",
       "        text-align: right;\n",
       "    }\n",
       "</style>\n",
       "<table border=\"1\" class=\"dataframe\">\n",
       "  <thead>\n",
       "    <tr style=\"text-align: right;\">\n",
       "      <th></th>\n",
       "      <th>block_timestamp</th>\n",
       "      <th>huntprice</th>\n",
       "      <th>rolling_volatility</th>\n",
       "    </tr>\n",
       "  </thead>\n",
       "  <tbody>\n",
       "    <tr>\n",
       "      <th>0</th>\n",
       "      <td>2022-04-08 05:04:48</td>\n",
       "      <td>0.908356</td>\n",
       "      <td>NaN</td>\n",
       "    </tr>\n",
       "    <tr>\n",
       "      <th>1</th>\n",
       "      <td>2022-04-08 05:04:48</td>\n",
       "      <td>0.908356</td>\n",
       "      <td>NaN</td>\n",
       "    </tr>\n",
       "    <tr>\n",
       "      <th>2</th>\n",
       "      <td>2022-04-08 05:12:15</td>\n",
       "      <td>0.908356</td>\n",
       "      <td>NaN</td>\n",
       "    </tr>\n",
       "    <tr>\n",
       "      <th>3</th>\n",
       "      <td>2022-04-08 09:53:01</td>\n",
       "      <td>0.935226</td>\n",
       "      <td>NaN</td>\n",
       "    </tr>\n",
       "    <tr>\n",
       "      <th>4</th>\n",
       "      <td>2022-04-08 09:56:40</td>\n",
       "      <td>0.943249</td>\n",
       "      <td>NaN</td>\n",
       "    </tr>\n",
       "    <tr>\n",
       "      <th>...</th>\n",
       "      <td>...</td>\n",
       "      <td>...</td>\n",
       "      <td>...</td>\n",
       "    </tr>\n",
       "    <tr>\n",
       "      <th>6371</th>\n",
       "      <td>2023-02-04 15:21:11</td>\n",
       "      <td>0.361388</td>\n",
       "      <td>0.004590</td>\n",
       "    </tr>\n",
       "    <tr>\n",
       "      <th>6372</th>\n",
       "      <td>2023-02-04 15:51:23</td>\n",
       "      <td>0.362334</td>\n",
       "      <td>0.004320</td>\n",
       "    </tr>\n",
       "    <tr>\n",
       "      <th>6373</th>\n",
       "      <td>2023-02-04 18:36:23</td>\n",
       "      <td>0.363351</td>\n",
       "      <td>0.004319</td>\n",
       "    </tr>\n",
       "    <tr>\n",
       "      <th>6374</th>\n",
       "      <td>2023-02-04 23:49:11</td>\n",
       "      <td>0.361194</td>\n",
       "      <td>0.004122</td>\n",
       "    </tr>\n",
       "    <tr>\n",
       "      <th>6375</th>\n",
       "      <td>2023-02-04 23:52:11</td>\n",
       "      <td>0.357945</td>\n",
       "      <td>0.004020</td>\n",
       "    </tr>\n",
       "  </tbody>\n",
       "</table>\n",
       "<p>6376 rows × 3 columns</p>\n",
       "</div>"
      ],
      "text/plain": [
       "          block_timestamp  huntprice  rolling_volatility\n",
       "0     2022-04-08 05:04:48   0.908356                 NaN\n",
       "1     2022-04-08 05:04:48   0.908356                 NaN\n",
       "2     2022-04-08 05:12:15   0.908356                 NaN\n",
       "3     2022-04-08 09:53:01   0.935226                 NaN\n",
       "4     2022-04-08 09:56:40   0.943249                 NaN\n",
       "...                   ...        ...                 ...\n",
       "6371  2023-02-04 15:21:11   0.361388            0.004590\n",
       "6372  2023-02-04 15:51:23   0.362334            0.004320\n",
       "6373  2023-02-04 18:36:23   0.363351            0.004319\n",
       "6374  2023-02-04 23:49:11   0.361194            0.004122\n",
       "6375  2023-02-04 23:52:11   0.357945            0.004020\n",
       "\n",
       "[6376 rows x 3 columns]"
      ]
     },
     "execution_count": 11,
     "metadata": {},
     "output_type": "execute_result"
    }
   ],
   "source": [
    "HUNT_PRICE"
   ]
  },
  {
   "cell_type": "code",
   "execution_count": null,
   "metadata": {},
   "outputs": [],
   "source": []
  }
 ],
 "metadata": {
  "kernelspec": {
   "display_name": "Python 3",
   "language": "python",
   "name": "python3"
  },
  "language_info": {
   "codemirror_mode": {
    "name": "ipython",
    "version": 3
   },
   "file_extension": ".py",
   "mimetype": "text/x-python",
   "name": "python",
   "nbconvert_exporter": "python",
   "pygments_lexer": "ipython3",
   "version": "3.9.12"
  },
  "orig_nbformat": 4,
  "vscode": {
   "interpreter": {
    "hash": "c815d5522d730692d6fc1bd8cf8011d5716afbe816a33b6bfcadd78ff6b33837"
   }
  }
 },
 "nbformat": 4,
 "nbformat_minor": 2
}
