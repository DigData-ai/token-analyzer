{
 "cells": [
  {
   "cell_type": "code",
   "execution_count": 1,
   "metadata": {},
   "outputs": [],
   "source": [
    "import pandas as pd\n",
    "import numpy as np\n"
   ]
  },
  {
   "cell_type": "code",
   "execution_count": 10,
   "metadata": {},
   "outputs": [],
   "source": [
    "HUNT_PRICE = pd.read_csv('HUNT/price.csv')\n",
    "HUNT_TVL = pd.read_csv('HUNT/TVL.csv')"
   ]
  },
  {
   "cell_type": "code",
   "execution_count": 20,
   "metadata": {},
   "outputs": [],
   "source": [
    "from datetime import datetime\n",
    "\n",
    "TOKEN_NAME = 'HUNT'\n",
    "PRICE = HUNT_PRICE.sort_values(by='block_timestamp', ascending=True).iloc[0, 1]\n",
    "TVL = HUNT_TVL.sort_values(by='block_timestamp', ascending=False).iloc[0, 1]\n",
    "AGE = (datetime.now() - datetime.strptime(HUNT_PRICE.sort_values(by='block_timestamp', ascending=True).iloc[0, 0], '%Y-%m-%d %H:%M:%S')).days\n",
    "VOLATILITY = np.std(HUNT_PRICE.sort_values(by='block_timestamp', ascending=True).iloc[:, 1])\n",
    "MARKETCAP = PRICE * TVL\n",
    "CURRENT_SUPPLY = TVL / PRICE"
   ]
  },
  {
   "cell_type": "code",
   "execution_count": null,
   "metadata": {},
   "outputs": [],
   "source": []
  }
 ],
 "metadata": {
  "kernelspec": {
   "display_name": "Python 3",
   "language": "python",
   "name": "python3"
  },
  "language_info": {
   "codemirror_mode": {
    "name": "ipython",
    "version": 3
   },
   "file_extension": ".py",
   "mimetype": "text/x-python",
   "name": "python",
   "nbconvert_exporter": "python",
   "pygments_lexer": "ipython3",
   "version": "3.9.12"
  },
  "orig_nbformat": 4,
  "vscode": {
   "interpreter": {
    "hash": "c815d5522d730692d6fc1bd8cf8011d5716afbe816a33b6bfcadd78ff6b33837"
   }
  }
 },
 "nbformat": 4,
 "nbformat_minor": 2
}
