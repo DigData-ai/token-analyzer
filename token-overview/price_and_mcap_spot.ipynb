{
 "cells": [
  {
   "cell_type": "code",
   "execution_count": 57,
   "metadata": {},
   "outputs": [],
   "source": [
    "import pandas as pd\n",
    "import numpy as np\n",
    "import matplotlib.pyplot as plt\n",
    "import seaborn as sns\n",
    "from dataclasses import dataclass"
   ]
  },
  {
   "cell_type": "code",
   "execution_count": 58,
   "metadata": {},
   "outputs": [],
   "source": [
    "@dataclass\n",
    "class token:\n",
    "    TOKEN_NAME = 'SPOT'\n",
    "    DATA = pd.read_csv('USDC_DATA/spot_2.csv')\n",
    "    PRICE = DATA[['block_timestamp', 'spot_price']].set_index('block_timestamp').dropna().reset_index()\n",
    "    SPOT_WALLETS = pd.read_csv('SPOT_WALLETS/spot_wallets.csv')\n",
    "    LIQ_DATA = pd.read_csv('USDC_DATA/usdc_spot.csv')"
   ]
  },
  {
   "cell_type": "code",
   "execution_count": 59,
   "metadata": {},
   "outputs": [
    {
     "data": {
      "text/plain": [
       "597813.5794380889"
      ]
     },
     "execution_count": 59,
     "metadata": {},
     "output_type": "execute_result"
    }
   ],
   "source": [
    "token.SPOT_WALLETS['balance'].sum()"
   ]
  },
  {
   "cell_type": "code",
   "execution_count": 60,
   "metadata": {},
   "outputs": [],
   "source": [
    "import plotly.graph_objects as go\n",
    "\n",
    "token.PRICE['block_timestamp'] = pd.to_datetime(token.PRICE['block_timestamp'])\n",
    "\n",
    "token.PRICE.set_index('block_timestamp', inplace=True)\n",
    "SPOT_PRICE = token.PRICE[\"spot_price\"].resample(\"D\").ohlc()\n",
    "\n",
    "fig = go.Figure(data=[go.Candlestick(x=SPOT_PRICE.index,\n",
    "                open=SPOT_PRICE['open'],\n",
    "                high=SPOT_PRICE['high'],\n",
    "                low=SPOT_PRICE['low'],\n",
    "                close=SPOT_PRICE['close'],)])"
   ]
  },
  {
   "cell_type": "code",
   "execution_count": 61,
   "metadata": {},
   "outputs": [
    {
     "data": {
      "application/vnd.plotly.v1+json": {
       "config": {
        "plotlyServerURL": "https://plot.ly"
       },
       "data": [
        {
         "close": [
          1.1861581489659145,
          1.2509017777776756,
          1.2152325255296434,
          1.21062170092344,
          1.189118154077058,
          1.1645389592023754,
          1.156506617087756,
          1.1542081002852715,
          1.1388290027380628,
          1.1425750261552012,
          1.1421727476923076,
          1.1428519151103564,
          1.1494712773517153,
          1.1386551,
          1.138639222217428,
          1.1377954562530173,
          1.1447946421545396,
          1.145024376633503,
          1.1615053471424217,
          1.1541498637211696,
          1.1631483395461557,
          1.1548907884365032,
          1.1588809927774024,
          1.1606192292869628,
          1.1548116047312953,
          1.1414601910221425,
          1.1393828113753475,
          1.1591294713394888,
          1.1567464888253574,
          1.1656443291537832,
          1.1664300514201094,
          1.16830089,
          1.1734199532097176,
          1.1664505722772276,
          1.1729311626250962,
          1.1680541704016771,
          1.1668838762556664,
          1.1680258016472205,
          1.1662141767994856,
          1.1731136177704908,
          1.1729814896406554,
          1.1623508694079732,
          1.137009159216938,
          1.129599757142857,
          1.1371885096839027,
          1.1393737329132831,
          1.138621535333333,
          1.1392736332203832,
          1.1391464520232617,
          1.139973127691415,
          1.1478737351537769,
          1.1442781509090612,
          1.1454447283584497,
          1.1461184403727014,
          1.1475119486986056,
          1.1412840669002284,
          1.1372241400542389,
          1.1377570322511477,
          1.1401819104395643,
          1.1333461846971074,
          1.134591612860696,
          1.1350540082818685,
          1.133318058380528,
          1.1402722842205593,
          1.1333329271673656,
          1.141212525166454,
          1.1342809438698351,
          1.1341527734375,
          1.1337244920724232,
          1.1329030609801736,
          1.1322750512066095,
          1.1321328872983691,
          null,
          1.1321328872983691,
          1.1321328872983691,
          null,
          1.132025575,
          1.1319560126497823,
          1.1317011812808826,
          1.1385754655747182,
          1.1390872646446752
         ],
         "high": [
          4.271751291150937,
          1.2748689353846154,
          1.2583865,
          1.2123209016925132,
          1.21062170092344,
          1.18935352,
          1.171968706796776,
          1.161079634923944,
          1.1542081002852715,
          1.1486982866493407,
          1.1425750261552012,
          1.1494783837398375,
          1.1494712773517153,
          1.1494712773517153,
          1.138639222217428,
          1.1455641908615457,
          1.1447946421545396,
          1.145024376633503,
          1.1625638044792936,
          1.1615053471424217,
          1.1631483395461557,
          1.1631483395461557,
          1.1622404097902097,
          1.1606192292869628,
          1.1548116047312953,
          1.1548118188472896,
          1.147889366419952,
          1.166443,
          1.1591294713394888,
          1.1656443291537832,
          1.1732958593693468,
          1.1753461514473666,
          1.1745950509896823,
          1.173696994552058,
          1.1729311626250962,
          1.1737702981205649,
          1.1731277330732555,
          1.1745062016,
          1.1680258016472205,
          1.1731136177704908,
          1.1729814896406554,
          1.1729814896406554,
          1.169376748377134,
          1.137009159216938,
          1.1371885096839027,
          1.1393737329132831,
          1.138621535333333,
          1.1454869361626052,
          1.1460992265003305,
          1.1469926166680824,
          1.1490676153971078,
          1.1478737351537769,
          1.1470778992876356,
          1.1461184403727014,
          1.1475119486986056,
          1.1479901948625693,
          1.1463951183886496,
          1.1444407068645552,
          1.144217012957187,
          1.1401819104395643,
          1.1404796887193984,
          1.142214064704342,
          1.141537245675835,
          1.1402722842205593,
          1.1335378541666667,
          1.1412230363293332,
          1.141212525166454,
          1.1341812140818233,
          1.1409616266978115,
          1.1337244920724232,
          1.1391218757515011,
          1.1322750512066095,
          null,
          1.1321328872983691,
          1.1321328872983691,
          null,
          1.1321328872983691,
          1.132025575,
          1.1319560126497823,
          1.1385754655747182,
          1.1390872646446752
         ],
         "low": [
          1.1406207590539477,
          1.178938695436207,
          1.1896708989988105,
          1.20337060651653,
          1.1774898990303393,
          1.1645389592023754,
          1.156506617087756,
          1.153239147081544,
          1.1388290027380628,
          1.1388290027380628,
          1.1421727476923076,
          1.1428519151103564,
          1.1494712773517153,
          1.1386551,
          1.138639222217428,
          1.1377954562530173,
          1.1446342417365427,
          1.137936206695063,
          1.1450729603516294,
          1.1541498637211696,
          1.154828426020809,
          1.1548907884365032,
          1.151048749,
          1.1536916245888151,
          1.1477055,
          1.1414601910221425,
          1.1393828113753475,
          1.1512799164290093,
          1.1567464888253574,
          1.1580824888970844,
          1.1551558851503283,
          1.16830089,
          1.1663852241990769,
          1.1664505722772276,
          1.1659815485148517,
          1.1654211440573503,
          1.1653159028910824,
          1.166765015873016,
          1.1662141767994856,
          1.172643586986346,
          1.1660523045100772,
          1.1533004935483873,
          1.137009159216938,
          1.129599757142857,
          1.129784827732716,
          1.1386891252473648,
          1.1305580342740413,
          1.1340177411983614,
          1.1386807182324687,
          1.1392171983471073,
          1.139666228866762,
          1.1375260947940948,
          1.1381669671955417,
          1.1390754391987008,
          1.1398117122318308,
          1.140970672455244,
          1.1372241400542389,
          1.1372241400542389,
          1.1336206611101327,
          1.133286255935338,
          1.132987196893301,
          1.1350540082818685,
          1.133318058380528,
          1.133318058380528,
          1.1333329271673656,
          1.1343860102740504,
          1.1342809438698351,
          1.1341527734375,
          1.1337244920724232,
          1.1329030609801736,
          1.1322750155864092,
          1.1321328872983691,
          null,
          1.1321328872983691,
          1.1321328872983691,
          null,
          1.132025575,
          1.1319560126497823,
          1.1317011812808826,
          1.1383541097594951,
          1.1390872646446752
         ],
         "open": [
          1.1406207590539477,
          1.1820667185267808,
          1.2509017777776756,
          1.2079758205858755,
          1.21062170092344,
          1.182209112323943,
          1.171968706796776,
          1.156506617087756,
          1.1542081002852715,
          1.1388290027380628,
          1.1425750261552012,
          1.1494783837398375,
          1.1494712773517153,
          1.1494712773517153,
          1.138639222217428,
          1.1455641908615457,
          1.1446342417365427,
          1.137936206695063,
          1.1450729603516294,
          1.1615053471424217,
          1.1623943736666669,
          1.1631483395461557,
          1.1618982422610693,
          1.1588809927774024,
          1.151892261208017,
          1.1478766671185916,
          1.1477141902122068,
          1.1512799164290093,
          1.1591294713394888,
          1.1643694589505382,
          1.1656443291537832,
          1.1735033870474838,
          1.1681217451249744,
          1.173696994552058,
          1.1664505722772276,
          1.1729311626250962,
          1.1679555607843135,
          1.1739357073608565,
          1.1680258016472205,
          1.172643586986346,
          1.1660523045100772,
          1.1729814896406554,
          1.1623508694079732,
          1.137009159216938,
          1.1364006770109965,
          1.1386891252473648,
          1.1325474817824552,
          1.1403205065,
          1.1392736332203832,
          1.1460453520515148,
          1.139973127691415,
          1.1478737351537769,
          1.1443905980250817,
          1.1390765546488777,
          1.14649181531449,
          1.1477900595230832,
          1.1405849671158745,
          1.1372241400542389,
          1.1377570322511477,
          1.1401819104395643,
          1.132987196893301,
          1.141688145546539,
          1.1414361395280108,
          1.133318058380528,
          1.1335378541666667,
          1.1401696466666669,
          1.141212525166454,
          1.1341812140818233,
          1.1341527734375,
          1.1337244920724232,
          1.132323663261884,
          1.1322750512066095,
          null,
          1.1321328872983691,
          1.1321328872983691,
          null,
          1.1321328872983691,
          1.132025575,
          1.1319560126497823,
          1.1383541097594951,
          1.1390872646446752
         ],
         "type": "candlestick",
         "x": [
          "2022-12-08T00:00:00",
          "2022-12-09T00:00:00",
          "2022-12-10T00:00:00",
          "2022-12-11T00:00:00",
          "2022-12-12T00:00:00",
          "2022-12-13T00:00:00",
          "2022-12-14T00:00:00",
          "2022-12-15T00:00:00",
          "2022-12-16T00:00:00",
          "2022-12-17T00:00:00",
          "2022-12-18T00:00:00",
          "2022-12-19T00:00:00",
          "2022-12-20T00:00:00",
          "2022-12-21T00:00:00",
          "2022-12-22T00:00:00",
          "2022-12-23T00:00:00",
          "2022-12-24T00:00:00",
          "2022-12-25T00:00:00",
          "2022-12-26T00:00:00",
          "2022-12-27T00:00:00",
          "2022-12-28T00:00:00",
          "2022-12-29T00:00:00",
          "2022-12-30T00:00:00",
          "2022-12-31T00:00:00",
          "2023-01-01T00:00:00",
          "2023-01-02T00:00:00",
          "2023-01-03T00:00:00",
          "2023-01-04T00:00:00",
          "2023-01-05T00:00:00",
          "2023-01-06T00:00:00",
          "2023-01-07T00:00:00",
          "2023-01-08T00:00:00",
          "2023-01-09T00:00:00",
          "2023-01-10T00:00:00",
          "2023-01-11T00:00:00",
          "2023-01-12T00:00:00",
          "2023-01-13T00:00:00",
          "2023-01-14T00:00:00",
          "2023-01-15T00:00:00",
          "2023-01-16T00:00:00",
          "2023-01-17T00:00:00",
          "2023-01-18T00:00:00",
          "2023-01-19T00:00:00",
          "2023-01-20T00:00:00",
          "2023-01-21T00:00:00",
          "2023-01-22T00:00:00",
          "2023-01-23T00:00:00",
          "2023-01-24T00:00:00",
          "2023-01-25T00:00:00",
          "2023-01-26T00:00:00",
          "2023-01-27T00:00:00",
          "2023-01-28T00:00:00",
          "2023-01-29T00:00:00",
          "2023-01-30T00:00:00",
          "2023-01-31T00:00:00",
          "2023-02-01T00:00:00",
          "2023-02-02T00:00:00",
          "2023-02-03T00:00:00",
          "2023-02-04T00:00:00",
          "2023-02-05T00:00:00",
          "2023-02-06T00:00:00",
          "2023-02-07T00:00:00",
          "2023-02-08T00:00:00",
          "2023-02-09T00:00:00",
          "2023-02-10T00:00:00",
          "2023-02-11T00:00:00",
          "2023-02-12T00:00:00",
          "2023-02-13T00:00:00",
          "2023-02-14T00:00:00",
          "2023-02-15T00:00:00",
          "2023-02-16T00:00:00",
          "2023-02-17T00:00:00",
          "2023-02-18T00:00:00",
          "2023-02-19T00:00:00",
          "2023-02-20T00:00:00",
          "2023-02-21T00:00:00",
          "2023-02-22T00:00:00",
          "2023-02-23T00:00:00",
          "2023-02-24T00:00:00",
          "2023-02-25T00:00:00",
          "2023-02-26T00:00:00"
         ]
        }
       ],
       "layout": {
        "template": {
         "data": {
          "bar": [
           {
            "error_x": {
             "color": "#2a3f5f"
            },
            "error_y": {
             "color": "#2a3f5f"
            },
            "marker": {
             "line": {
              "color": "#E5ECF6",
              "width": 0.5
             },
             "pattern": {
              "fillmode": "overlay",
              "size": 10,
              "solidity": 0.2
             }
            },
            "type": "bar"
           }
          ],
          "barpolar": [
           {
            "marker": {
             "line": {
              "color": "#E5ECF6",
              "width": 0.5
             },
             "pattern": {
              "fillmode": "overlay",
              "size": 10,
              "solidity": 0.2
             }
            },
            "type": "barpolar"
           }
          ],
          "carpet": [
           {
            "aaxis": {
             "endlinecolor": "#2a3f5f",
             "gridcolor": "white",
             "linecolor": "white",
             "minorgridcolor": "white",
             "startlinecolor": "#2a3f5f"
            },
            "baxis": {
             "endlinecolor": "#2a3f5f",
             "gridcolor": "white",
             "linecolor": "white",
             "minorgridcolor": "white",
             "startlinecolor": "#2a3f5f"
            },
            "type": "carpet"
           }
          ],
          "choropleth": [
           {
            "colorbar": {
             "outlinewidth": 0,
             "ticks": ""
            },
            "type": "choropleth"
           }
          ],
          "contour": [
           {
            "colorbar": {
             "outlinewidth": 0,
             "ticks": ""
            },
            "colorscale": [
             [
              0,
              "#0d0887"
             ],
             [
              0.1111111111111111,
              "#46039f"
             ],
             [
              0.2222222222222222,
              "#7201a8"
             ],
             [
              0.3333333333333333,
              "#9c179e"
             ],
             [
              0.4444444444444444,
              "#bd3786"
             ],
             [
              0.5555555555555556,
              "#d8576b"
             ],
             [
              0.6666666666666666,
              "#ed7953"
             ],
             [
              0.7777777777777778,
              "#fb9f3a"
             ],
             [
              0.8888888888888888,
              "#fdca26"
             ],
             [
              1,
              "#f0f921"
             ]
            ],
            "type": "contour"
           }
          ],
          "contourcarpet": [
           {
            "colorbar": {
             "outlinewidth": 0,
             "ticks": ""
            },
            "type": "contourcarpet"
           }
          ],
          "heatmap": [
           {
            "colorbar": {
             "outlinewidth": 0,
             "ticks": ""
            },
            "colorscale": [
             [
              0,
              "#0d0887"
             ],
             [
              0.1111111111111111,
              "#46039f"
             ],
             [
              0.2222222222222222,
              "#7201a8"
             ],
             [
              0.3333333333333333,
              "#9c179e"
             ],
             [
              0.4444444444444444,
              "#bd3786"
             ],
             [
              0.5555555555555556,
              "#d8576b"
             ],
             [
              0.6666666666666666,
              "#ed7953"
             ],
             [
              0.7777777777777778,
              "#fb9f3a"
             ],
             [
              0.8888888888888888,
              "#fdca26"
             ],
             [
              1,
              "#f0f921"
             ]
            ],
            "type": "heatmap"
           }
          ],
          "heatmapgl": [
           {
            "colorbar": {
             "outlinewidth": 0,
             "ticks": ""
            },
            "colorscale": [
             [
              0,
              "#0d0887"
             ],
             [
              0.1111111111111111,
              "#46039f"
             ],
             [
              0.2222222222222222,
              "#7201a8"
             ],
             [
              0.3333333333333333,
              "#9c179e"
             ],
             [
              0.4444444444444444,
              "#bd3786"
             ],
             [
              0.5555555555555556,
              "#d8576b"
             ],
             [
              0.6666666666666666,
              "#ed7953"
             ],
             [
              0.7777777777777778,
              "#fb9f3a"
             ],
             [
              0.8888888888888888,
              "#fdca26"
             ],
             [
              1,
              "#f0f921"
             ]
            ],
            "type": "heatmapgl"
           }
          ],
          "histogram": [
           {
            "marker": {
             "pattern": {
              "fillmode": "overlay",
              "size": 10,
              "solidity": 0.2
             }
            },
            "type": "histogram"
           }
          ],
          "histogram2d": [
           {
            "colorbar": {
             "outlinewidth": 0,
             "ticks": ""
            },
            "colorscale": [
             [
              0,
              "#0d0887"
             ],
             [
              0.1111111111111111,
              "#46039f"
             ],
             [
              0.2222222222222222,
              "#7201a8"
             ],
             [
              0.3333333333333333,
              "#9c179e"
             ],
             [
              0.4444444444444444,
              "#bd3786"
             ],
             [
              0.5555555555555556,
              "#d8576b"
             ],
             [
              0.6666666666666666,
              "#ed7953"
             ],
             [
              0.7777777777777778,
              "#fb9f3a"
             ],
             [
              0.8888888888888888,
              "#fdca26"
             ],
             [
              1,
              "#f0f921"
             ]
            ],
            "type": "histogram2d"
           }
          ],
          "histogram2dcontour": [
           {
            "colorbar": {
             "outlinewidth": 0,
             "ticks": ""
            },
            "colorscale": [
             [
              0,
              "#0d0887"
             ],
             [
              0.1111111111111111,
              "#46039f"
             ],
             [
              0.2222222222222222,
              "#7201a8"
             ],
             [
              0.3333333333333333,
              "#9c179e"
             ],
             [
              0.4444444444444444,
              "#bd3786"
             ],
             [
              0.5555555555555556,
              "#d8576b"
             ],
             [
              0.6666666666666666,
              "#ed7953"
             ],
             [
              0.7777777777777778,
              "#fb9f3a"
             ],
             [
              0.8888888888888888,
              "#fdca26"
             ],
             [
              1,
              "#f0f921"
             ]
            ],
            "type": "histogram2dcontour"
           }
          ],
          "mesh3d": [
           {
            "colorbar": {
             "outlinewidth": 0,
             "ticks": ""
            },
            "type": "mesh3d"
           }
          ],
          "parcoords": [
           {
            "line": {
             "colorbar": {
              "outlinewidth": 0,
              "ticks": ""
             }
            },
            "type": "parcoords"
           }
          ],
          "pie": [
           {
            "automargin": true,
            "type": "pie"
           }
          ],
          "scatter": [
           {
            "fillpattern": {
             "fillmode": "overlay",
             "size": 10,
             "solidity": 0.2
            },
            "type": "scatter"
           }
          ],
          "scatter3d": [
           {
            "line": {
             "colorbar": {
              "outlinewidth": 0,
              "ticks": ""
             }
            },
            "marker": {
             "colorbar": {
              "outlinewidth": 0,
              "ticks": ""
             }
            },
            "type": "scatter3d"
           }
          ],
          "scattercarpet": [
           {
            "marker": {
             "colorbar": {
              "outlinewidth": 0,
              "ticks": ""
             }
            },
            "type": "scattercarpet"
           }
          ],
          "scattergeo": [
           {
            "marker": {
             "colorbar": {
              "outlinewidth": 0,
              "ticks": ""
             }
            },
            "type": "scattergeo"
           }
          ],
          "scattergl": [
           {
            "marker": {
             "colorbar": {
              "outlinewidth": 0,
              "ticks": ""
             }
            },
            "type": "scattergl"
           }
          ],
          "scattermapbox": [
           {
            "marker": {
             "colorbar": {
              "outlinewidth": 0,
              "ticks": ""
             }
            },
            "type": "scattermapbox"
           }
          ],
          "scatterpolar": [
           {
            "marker": {
             "colorbar": {
              "outlinewidth": 0,
              "ticks": ""
             }
            },
            "type": "scatterpolar"
           }
          ],
          "scatterpolargl": [
           {
            "marker": {
             "colorbar": {
              "outlinewidth": 0,
              "ticks": ""
             }
            },
            "type": "scatterpolargl"
           }
          ],
          "scatterternary": [
           {
            "marker": {
             "colorbar": {
              "outlinewidth": 0,
              "ticks": ""
             }
            },
            "type": "scatterternary"
           }
          ],
          "surface": [
           {
            "colorbar": {
             "outlinewidth": 0,
             "ticks": ""
            },
            "colorscale": [
             [
              0,
              "#0d0887"
             ],
             [
              0.1111111111111111,
              "#46039f"
             ],
             [
              0.2222222222222222,
              "#7201a8"
             ],
             [
              0.3333333333333333,
              "#9c179e"
             ],
             [
              0.4444444444444444,
              "#bd3786"
             ],
             [
              0.5555555555555556,
              "#d8576b"
             ],
             [
              0.6666666666666666,
              "#ed7953"
             ],
             [
              0.7777777777777778,
              "#fb9f3a"
             ],
             [
              0.8888888888888888,
              "#fdca26"
             ],
             [
              1,
              "#f0f921"
             ]
            ],
            "type": "surface"
           }
          ],
          "table": [
           {
            "cells": {
             "fill": {
              "color": "#EBF0F8"
             },
             "line": {
              "color": "white"
             }
            },
            "header": {
             "fill": {
              "color": "#C8D4E3"
             },
             "line": {
              "color": "white"
             }
            },
            "type": "table"
           }
          ]
         },
         "layout": {
          "annotationdefaults": {
           "arrowcolor": "#2a3f5f",
           "arrowhead": 0,
           "arrowwidth": 1
          },
          "autotypenumbers": "strict",
          "coloraxis": {
           "colorbar": {
            "outlinewidth": 0,
            "ticks": ""
           }
          },
          "colorscale": {
           "diverging": [
            [
             0,
             "#8e0152"
            ],
            [
             0.1,
             "#c51b7d"
            ],
            [
             0.2,
             "#de77ae"
            ],
            [
             0.3,
             "#f1b6da"
            ],
            [
             0.4,
             "#fde0ef"
            ],
            [
             0.5,
             "#f7f7f7"
            ],
            [
             0.6,
             "#e6f5d0"
            ],
            [
             0.7,
             "#b8e186"
            ],
            [
             0.8,
             "#7fbc41"
            ],
            [
             0.9,
             "#4d9221"
            ],
            [
             1,
             "#276419"
            ]
           ],
           "sequential": [
            [
             0,
             "#0d0887"
            ],
            [
             0.1111111111111111,
             "#46039f"
            ],
            [
             0.2222222222222222,
             "#7201a8"
            ],
            [
             0.3333333333333333,
             "#9c179e"
            ],
            [
             0.4444444444444444,
             "#bd3786"
            ],
            [
             0.5555555555555556,
             "#d8576b"
            ],
            [
             0.6666666666666666,
             "#ed7953"
            ],
            [
             0.7777777777777778,
             "#fb9f3a"
            ],
            [
             0.8888888888888888,
             "#fdca26"
            ],
            [
             1,
             "#f0f921"
            ]
           ],
           "sequentialminus": [
            [
             0,
             "#0d0887"
            ],
            [
             0.1111111111111111,
             "#46039f"
            ],
            [
             0.2222222222222222,
             "#7201a8"
            ],
            [
             0.3333333333333333,
             "#9c179e"
            ],
            [
             0.4444444444444444,
             "#bd3786"
            ],
            [
             0.5555555555555556,
             "#d8576b"
            ],
            [
             0.6666666666666666,
             "#ed7953"
            ],
            [
             0.7777777777777778,
             "#fb9f3a"
            ],
            [
             0.8888888888888888,
             "#fdca26"
            ],
            [
             1,
             "#f0f921"
            ]
           ]
          },
          "colorway": [
           "#636efa",
           "#EF553B",
           "#00cc96",
           "#ab63fa",
           "#FFA15A",
           "#19d3f3",
           "#FF6692",
           "#B6E880",
           "#FF97FF",
           "#FECB52"
          ],
          "font": {
           "color": "#2a3f5f"
          },
          "geo": {
           "bgcolor": "white",
           "lakecolor": "white",
           "landcolor": "#E5ECF6",
           "showlakes": true,
           "showland": true,
           "subunitcolor": "white"
          },
          "hoverlabel": {
           "align": "left"
          },
          "hovermode": "closest",
          "mapbox": {
           "style": "light"
          },
          "paper_bgcolor": "white",
          "plot_bgcolor": "#E5ECF6",
          "polar": {
           "angularaxis": {
            "gridcolor": "white",
            "linecolor": "white",
            "ticks": ""
           },
           "bgcolor": "#E5ECF6",
           "radialaxis": {
            "gridcolor": "white",
            "linecolor": "white",
            "ticks": ""
           }
          },
          "scene": {
           "xaxis": {
            "backgroundcolor": "#E5ECF6",
            "gridcolor": "white",
            "gridwidth": 2,
            "linecolor": "white",
            "showbackground": true,
            "ticks": "",
            "zerolinecolor": "white"
           },
           "yaxis": {
            "backgroundcolor": "#E5ECF6",
            "gridcolor": "white",
            "gridwidth": 2,
            "linecolor": "white",
            "showbackground": true,
            "ticks": "",
            "zerolinecolor": "white"
           },
           "zaxis": {
            "backgroundcolor": "#E5ECF6",
            "gridcolor": "white",
            "gridwidth": 2,
            "linecolor": "white",
            "showbackground": true,
            "ticks": "",
            "zerolinecolor": "white"
           }
          },
          "shapedefaults": {
           "line": {
            "color": "#2a3f5f"
           }
          },
          "ternary": {
           "aaxis": {
            "gridcolor": "white",
            "linecolor": "white",
            "ticks": ""
           },
           "baxis": {
            "gridcolor": "white",
            "linecolor": "white",
            "ticks": ""
           },
           "bgcolor": "#E5ECF6",
           "caxis": {
            "gridcolor": "white",
            "linecolor": "white",
            "ticks": ""
           }
          },
          "title": {
           "x": 0.05
          },
          "xaxis": {
           "automargin": true,
           "gridcolor": "white",
           "linecolor": "white",
           "ticks": "",
           "title": {
            "standoff": 15
           },
           "zerolinecolor": "white",
           "zerolinewidth": 2
          },
          "yaxis": {
           "automargin": true,
           "gridcolor": "white",
           "linecolor": "white",
           "ticks": "",
           "title": {
            "standoff": 15
           },
           "zerolinecolor": "white",
           "zerolinewidth": 2
          }
         }
        }
       }
      }
     },
     "metadata": {},
     "output_type": "display_data"
    }
   ],
   "source": [
    "fig"
   ]
  },
  {
   "cell_type": "code",
   "execution_count": 66,
   "metadata": {},
   "outputs": [],
   "source": [
    "SPOT_PRICE.to_csv('./USDC_Data/SPOT_PRICE.csv')"
   ]
  },
  {
   "cell_type": "code",
   "execution_count": 75,
   "metadata": {},
   "outputs": [
    {
     "data": {
      "text/plain": [
       "<AxesSubplot: xlabel='block_timestamp'>"
      ]
     },
     "execution_count": 75,
     "metadata": {},
     "output_type": "execute_result"
    },
    {
     "data": {
      "image/png": "[encoded data removed]",
      "text/plain": [
       "<Figure size 1000x800 with 1 Axes>"
      ]
     },
     "metadata": {},
     "output_type": "display_data"
    }
   ],
   "source": [
    "volatility = token.PRICE['spot_price'].pct_change()\n",
    "volatility.plot(figsize=(10, 8))    "
   ]
  },
  {
   "cell_type": "code",
   "execution_count": 74,
   "metadata": {},
   "outputs": [],
   "source": [
    "volality = volatility.rolling(30).std() * np.sqrt(30)"
   ]
  },
  {
   "cell_type": "code",
   "execution_count": 71,
   "metadata": {},
   "outputs": [
    {
     "data": {
      "text/plain": [
       "<AxesSubplot: xlabel='block_timestamp'>"
      ]
     },
     "execution_count": 71,
     "metadata": {},
     "output_type": "execute_result"
    },
    {
     "data": {
      "image/png": "[encoded data removed]",
      "text/plain": [
       "<Figure size 1000x800 with 1 Axes>"
      ]
     },
     "metadata": {},
     "output_type": "display_data"
    }
   ],
   "source": [
    "volatility.plot(figsize=(10, 8))"
   ]
  },
  {
   "cell_type": "code",
   "execution_count": 76,
   "metadata": {},
   "outputs": [],
   "source": [
    "volatility.to_csv('./USDC_Data/SPOT_VOLATILITY.csv')"
   ]
  },
  {
   "cell_type": "code",
   "execution_count": null,
   "metadata": {},
   "outputs": [],
   "source": []
  }
 ],
 "metadata": {
  "kernelspec": {
   "display_name": "Python 3",
   "language": "python",
   "name": "python3"
  },
  "language_info": {
   "codemirror_mode": {
    "name": "ipython",
    "version": 3
   },
   "file_extension": ".py",
   "mimetype": "text/x-python",
   "name": "python",
   "nbconvert_exporter": "python",
   "pygments_lexer": "ipython3",
   "version": "3.9.12"
  },
  "orig_nbformat": 4
 },
 "nbformat": 4,
 "nbformat_minor": 2
}
