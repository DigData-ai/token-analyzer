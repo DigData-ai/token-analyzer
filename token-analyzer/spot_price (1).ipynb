{
  "nbformat": 4,
  "nbformat_minor": 0,
  "metadata": {
    "colab": {
      "provenance": [],
      "collapsed_sections": [
        "PtdhMBALhOkL",
        "aWeG39AKhbQd",
        "MbGuW7g3hfsv"
      ]
    },
    "kernelspec": {
      "name": "python3",
      "display_name": "Python 3"
    },
    "language_info": {
      "name": "python"
    }
  },
  "cells": [
    {
      "cell_type": "markdown",
      "source": [
        "# READ DATA AND CLEANING, ORDERING\n"
      ],
      "metadata": {
        "id": "PtdhMBALhOkL"
      }
    },
    {
      "cell_type": "code",
      "execution_count": null,
      "metadata": {
        "id": "dPkncCvIVcFE"
      },
      "outputs": [],
      "source": [
        "import pandas as pd\n",
        "import numpy as np\n",
        "pd.set_option(\"display.max_rows\", None)"
      ]
    },
    {
      "cell_type": "code",
      "source": [
        "df = pd.read_csv('spot.csv')\n",
        "df = df.dropna(subset=['event_name'])\n",
        "df.sort_values(by=[\"block_timestamp\",\"transaction_index\",\"log_index\"], inplace=True)\n",
        "df.reset_index(drop=True, inplace=True)"
      ],
      "metadata": {
        "id": "q6mQ8N2tVwDG"
      },
      "execution_count": null,
      "outputs": []
    },
    {
      "cell_type": "markdown",
      "source": [
        "# USDC"
      ],
      "metadata": {
        "id": "aWeG39AKhbQd"
      }
    },
    {
      "cell_type": "code",
      "source": [
        "df[\"usdc\"]=0\n",
        "usdc=0\n",
        "\n",
        "for i in df.index:\n",
        "    if df[\"event_name\"][i]==\"Initialize\":\n",
        "        df[\"usdc\"][i]=0\n",
        "        \n",
        "    elif df[\"event_name\"][i]==\"Increase liquidity\": #i 0 olsa one hell yolu tap\n",
        "        usdc=usdc+df[\"token0_in\"][i]\n",
        "        df[\"usdc\"][i]=usdc\n",
        "             \n",
        "        \n",
        "    elif df[\"event_name\"][i]==\"Collect\":\n",
        "        usdc=usdc-df[\"token0_out\"][i]\n",
        "        df[\"usdc\"][i]=usdc\n",
        "              \n",
        "    elif df[\"event_name\"][i]==\"Swap\":\n",
        "        if str(df[\"token0_in\"][i]) != 'nan':\n",
        "            usdc=usdc+df[\"token0_in\"][i]\n",
        "            df[\"usdc\"][i]=usdc\n",
        "            \n",
        "                 \n",
        "        else:\n",
        "            usdc=usdc-df[\"token0_out\"][i]\n",
        "            df[\"usdc\"][i]=usdc\n",
        "         \n",
        "    elif df[\"event_name\"][i]==\"Burn (Remove)\":\n",
        "        df[\"usdc\"][i]=usdc\n",
        "                 \n",
        "    else:\n",
        "        df[\"usdc\"][i]=usdc                             "
      ],
      "metadata": {
        "id": "qn8kxYMnaPj9"
      },
      "execution_count": null,
      "outputs": []
    },
    {
      "cell_type": "markdown",
      "source": [
        "# SPOT PRICE AND RATE"
      ],
      "metadata": {
        "id": "MbGuW7g3hfsv"
      }
    },
    {
      "cell_type": "code",
      "source": [
        "df[\"spot_price\"]=0\n",
        "df[\"rate\"]=0\n",
        "\n",
        "for i in df.index:\n",
        "    if df['event_name'][i]=='Initialize':\n",
        "        df['rate'][i]=0\n",
        "        df[\"spot_price\"][i]=0\n",
        "        \n",
        "    elif df['event_name'][i]=='Increase liquidity':\n",
        "        if \"Swap\" not in df.iloc[:i+1][\"event_name\"].unique() or df[\"usdc\"][i-1]<1: \n",
        "            df['rate'][i]=df['token0_in'][i]/df['token1_in'][i]\n",
        "            df[\"spot_price\"][i]=df['rate'][i]\n",
        "        else:\n",
        "            df['rate'][i]=df['rate'][i-1]\n",
        "            df[\"spot_price\"][i]=df['rate'][i]\n",
        "            \n",
        "    \n",
        "    elif df['event_name'][i]=='Swap':   \n",
        "        if str(df[\"token0_in\"][i]) != 'nan':\n",
        "            df['rate'][i]=df['token0_in'][i]*0.997/df['token1_out'][i]\n",
        "            df[\"spot_price\"][i]=df['rate'][i]\n",
        "            \n",
        "        else: \n",
        "            df['rate'][i]=(1/(df['token1_in'][i]*0.997/df['token0_out'][i]))\n",
        "            df[\"spot_price\"][i]=df['rate'][i]\n",
        "            \n",
        "    else:\n",
        "        df['rate'][i]=df['rate'][i-1]\n",
        "        df[\"spot_price\"][i]=df['rate'][i]"
      ],
      "metadata": {
        "id": "pLC7IaO_Yj6O"
      },
      "execution_count": null,
      "outputs": []
    }
  ]
}